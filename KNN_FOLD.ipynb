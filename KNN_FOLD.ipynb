{
 "cells": [
  {
   "cell_type": "code",
   "execution_count": 4,
   "metadata": {},
   "outputs": [],
   "source": [
    "import numpy as np\n",
    "import pandas as pd\n",
    "import matplotlib.pyplot as plt\n",
    "from sklearn.model_selection import train_test_split\n",
    "from sklearn.neighbors import KNeighborsClassifier\n",
    "from sklearn.metrics import accuracy_score\n",
    "from sklearn.model_selection import cross_val_score\n",
    "from collections import Counter\n",
    "from sklearn.metrics import accuracy_score\n",
    "from sklearn.model_selection import cross_validate"
   ]
  },
  {
   "cell_type": "code",
   "execution_count": 6,
   "metadata": {},
   "outputs": [
    {
     "name": "stdout",
     "output_type": "stream",
     "text": [
      "          x         y  class\n",
      "0  0.700335 -0.247068    0.0\n",
      "1 -3.950019  2.740080    1.0\n",
      "2  0.150222 -2.157638    1.0\n",
      "3 -1.672050 -0.941519    1.0\n",
      "4  2.560483 -1.846577    1.0\n"
     ]
    }
   ],
   "source": [
    "names = ['x', 'y', 'class']\n",
    "\n",
    "# loading training data\n",
    "df = pd.read_csv('wjwd/3.concertriccir2.csv', header=None, names=names)\n",
    "print(df.head())\n",
    "\n",
    "# create design matrix X and target vector y\n",
    "X = np.array(df.iloc[:, 0:2]) # end index is exclusive\n",
    "y = np.array(df['class']) # showing you two ways of indexing a pandas df"
   ]
  },
  {
   "cell_type": "code",
   "execution_count": 8,
   "metadata": {},
   "outputs": [
    {
     "name": "stdout",
     "output_type": "stream",
     "text": [
      "\n",
      "CV accuracy for k = 1 is 88%\n",
      "\n",
      "CV accuracy for k = 3 is 91%\n",
      "\n",
      "CV accuracy for k = 5 is 89%\n",
      "\n",
      "CV accuracy for k = 7 is 91%\n",
      "\n",
      "CV accuracy for k = 9 is 88%\n",
      "\n",
      "CV accuracy for k = 11 is 86%\n",
      "\n",
      "CV accuracy for k = 13 is 84%\n",
      "\n",
      "CV accuracy for k = 15 is 84%\n",
      "\n",
      "CV accuracy for k = 17 is 83%\n",
      "\n",
      "CV accuracy for k = 19 is 81%\n",
      "\n",
      "CV accuracy for k = 21 is 77%\n",
      "\n",
      "CV accuracy for k = 23 is 75%\n",
      "\n",
      "CV accuracy for k = 25 is 75%\n",
      "\n",
      "CV accuracy for k = 27 is 75%\n",
      "\n",
      "CV accuracy for k = 29 is 71%\n",
      "\n",
      "****Test accuracy for k = 1 is 91%\n"
     ]
    }
   ],
   "source": [
    "X_1, X_test, y_1, y_test =train_test_split(X, y, test_size=0.3, random_state=0)\n",
    "\n",
    "# split the train data set into cross validation train and cross validation test\n",
    "X_tr, X_cv, y_tr, y_cv =train_test_split(X_1, y_1, test_size=0.3)\n",
    "\n",
    "for i in range(1,30,2):\n",
    "    # instantiate learning model (k = 30)\n",
    "    knn = KNeighborsClassifier(n_neighbors=i)\n",
    "\n",
    "    # fitting the model on crossvalidation train\n",
    "    knn.fit(X_tr, y_tr)\n",
    "\n",
    "    # predict the response on the crossvalidation train\n",
    "    pred = knn.predict(X_cv)\n",
    "\n",
    "    # evaluate CV accuracy\n",
    "    acc = accuracy_score(y_cv, pred, normalize=True) * float(100)\n",
    "    print('\\nCV accuracy for k = %d is %d%%' % (i, acc))\n",
    "    \n",
    "knn = KNeighborsClassifier(1)\n",
    "knn.fit(X_tr,y_tr)\n",
    "pred = knn.predict(X_test)\n",
    "acc = accuracy_score(y_test, pred, normalize=True) * float(100)\n",
    "print('\\n****Test accuracy for k = 1 is %d%%' % (acc))"
   ]
  },
  {
   "cell_type": "code",
   "execution_count": null,
   "metadata": {},
   "outputs": [],
   "source": []
  }
 ],
 "metadata": {
  "kernelspec": {
   "display_name": "Python 3",
   "language": "python",
   "name": "python3"
  },
  "language_info": {
   "codemirror_mode": {
    "name": "ipython",
    "version": 3
   },
   "file_extension": ".py",
   "mimetype": "text/x-python",
   "name": "python",
   "nbconvert_exporter": "python",
   "pygments_lexer": "ipython3",
   "version": "3.7.3"
  }
 },
 "nbformat": 4,
 "nbformat_minor": 2
}
